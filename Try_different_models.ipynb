{
 "cells": [
  {
   "cell_type": "code",
   "execution_count": 226,
   "metadata": {},
   "outputs": [],
   "source": [
    "import pandas as pd\n",
    "import numpy as np\n",
    "from sklearn.linear_model import LinearRegression\n",
    "from sklearn.linear_model import LassoCV\n",
    "from sklearn.linear_model import Lasso\n",
    "from sklearn.tree import DecisionTreeRegressor\n",
    "from sklearn.ensemble import RandomForestRegressor\n",
    "from sklearn.decomposition import PCA\n",
    "from joblib import dump\n",
    "from preprocess import prep_data\n",
    "from sklearn.model_selection import cross_validate\n",
    "from sklearn.model_selection import KFold\n",
    "from sklearn.metrics import mean_squared_error\n",
    "from sklearn.metrics import mean_absolute_error, median_absolute_error\n",
    "from sklearn.preprocessing import StandardScaler\n",
    "\n",
    "from sklearn.pipeline import make_pipeline\n",
    "import matplotlib.pyplot as plt\n",
    "from sklearn.neural_network import MLPRegressor\n",
    "\n",
    "from sklearn import linear_model\n",
    "from sklearn.preprocessing import PolynomialFeatures\n",
    "from sklearn.linear_model import Ridge\n",
    "from sklearn.linear_model import RidgeCV\n",
    "\n"
   ]
  },
  {
   "cell_type": "markdown",
   "metadata": {},
   "source": [
    "## Plot the data"
   ]
  },
  {
   "cell_type": "code",
   "execution_count": 132,
   "metadata": {},
   "outputs": [
    {
     "name": "stdout",
     "output_type": "stream",
     "text": [
      "<bound method NDFrame.head of      Species  Weight  Length1  Length2  Length3   Height   Width\n",
      "0          2   430.0     26.5     29.0     34.0  12.4440  5.1340\n",
      "1          1   110.0     20.0     22.0     23.5   5.5225  3.9950\n",
      "2          3   160.0     20.5     22.5     25.3   7.0334  3.8203\n",
      "3          6    60.0     14.3     15.5     17.4   6.5772  2.3142\n",
      "4          2   700.0     30.4     33.0     38.3  14.8604  5.2854\n",
      "..       ...     ...      ...      ...      ...      ...     ...\n",
      "106        1   197.0     23.5     25.6     27.0   6.5610  4.2390\n",
      "107        6   140.0     19.0     20.7     23.2   8.5376  3.2944\n",
      "108        3   110.0     19.1     20.8     23.1   6.1677  3.3957\n",
      "109        1   685.0     34.0     36.5     39.0  10.8810  6.8640\n",
      "110        1   300.0     26.9     28.7     30.1   7.5852  4.6354\n",
      "\n",
      "[111 rows x 7 columns]>\n",
      "Species      int64\n",
      "Weight     float64\n",
      "Length1    float64\n",
      "Length2    float64\n",
      "Length3    float64\n",
      "Height     float64\n",
      "Width      float64\n",
      "dtype: object\n"
     ]
    }
   ],
   "source": [
    "df = pd.read_csv(\"fish_participant.csv\").assign(Species=lambda df: df[\"Species\"].replace({\n",
    "    \"Perch\":1,\n",
    "    \"Bream\":2,\n",
    "    \"Roach\":3,\n",
    "    \"Pike\":4,\n",
    "    \"Smelt\":5,\n",
    "    \"Parkki\":6,\n",
    "    \"Whitefish\":7\n",
    "}))\n",
    "\n",
    "print(df.head)\n",
    "print(df.dtypes)\n",
    "\n"
   ]
  },
  {
   "cell_type": "code",
   "execution_count": 134,
   "metadata": {},
   "outputs": [
    {
     "name": "stdout",
     "output_type": "stream",
     "text": [
      "<bound method NDFrame.head of      Species  Weight  Length1  Length2  Length3   Height   Width\n",
      "0          2   430.0     26.5     29.0     34.0  12.4440  5.1340\n",
      "1          1   110.0     20.0     22.0     23.5   5.5225  3.9950\n",
      "2          3   160.0     20.5     22.5     25.3   7.0334  3.8203\n",
      "3          6    60.0     14.3     15.5     17.4   6.5772  2.3142\n",
      "4          2   700.0     30.4     33.0     38.3  14.8604  5.2854\n",
      "..       ...     ...      ...      ...      ...      ...     ...\n",
      "134        1  1000.0     39.8     43.0     45.2  11.9328  7.2772\n",
      "135        2   720.0     32.0     35.0     40.6  16.3618  6.0900\n",
      "136        1  1100.0     39.0     42.0     44.6  12.8002  6.8684\n",
      "137        1   100.0     16.2     18.0     19.2   5.2224  3.3216\n",
      "138        3   160.0     21.1     22.5     25.0   6.4000  3.8000\n",
      "\n",
      "[139 rows x 7 columns]>\n",
      "Species      int64\n",
      "Weight     float64\n",
      "Length1    float64\n",
      "Length2    float64\n",
      "Length3    float64\n",
      "Height     float64\n",
      "Width      float64\n",
      "dtype: object\n"
     ]
    }
   ],
   "source": [
    "df_holdout = pd.read_csv(\"fish_holdout_demo.csv\").assign(Species=lambda df: df[\"Species\"].replace({\n",
    "    \"Perch\":1,\n",
    "    \"Bream\":2,\n",
    "    \"Roach\":3,\n",
    "    \"Pike\":4,\n",
    "    \"Smelt\":5,\n",
    "    \"Parkki\":6,\n",
    "    \"Whitefish\":7\n",
    "}))\n",
    "df = df.append(df_holdout, ignore_index = True)\n",
    "\n",
    "print(df.head)\n",
    "print(df.dtypes)"
   ]
  },
  {
   "cell_type": "code",
   "execution_count": 135,
   "metadata": {},
   "outputs": [
    {
     "data": {
      "text/plain": [
       "Text(0.5, 0, 'Height')"
      ]
     },
     "execution_count": 135,
     "metadata": {},
     "output_type": "execute_result"
    },
    {
     "data": {
      "image/png": "[encoded data removed]",
      "text/plain": [
       "<Figure size 432x288 with 2 Axes>"
      ]
     },
     "metadata": {
      "needs_background": "light"
     },
     "output_type": "display_data"
    }
   ],
   "source": [
    "df.plot.scatter(x='Height', y='Weight', c='Species', colormap='viridis')\n",
    "plt.xlabel(\"Height\")"
   ]
  },
  {
   "cell_type": "code",
   "execution_count": 136,
   "metadata": {},
   "outputs": [
    {
     "data": {
      "text/plain": [
       "<matplotlib.axes._subplots.AxesSubplot at 0x2c3aef76160>"
      ]
     },
     "execution_count": 136,
     "metadata": {},
     "output_type": "execute_result"
    },
    {
     "data": {
      "image/png": "[encoded data removed]",
      "text/plain": [
       "<Figure size 432x288 with 2 Axes>"
      ]
     },
     "metadata": {
      "needs_background": "light"
     },
     "output_type": "display_data"
    }
   ],
   "source": [
    "df.plot.scatter(x='Length1', y='Weight', c='Species', colormap='viridis')"
   ]
  },
  {
   "cell_type": "code",
   "execution_count": 137,
   "metadata": {},
   "outputs": [
    {
     "data": {
      "text/plain": [
       "<matplotlib.axes._subplots.AxesSubplot at 0x2c3af0634e0>"
      ]
     },
     "execution_count": 137,
     "metadata": {},
     "output_type": "execute_result"
    },
    {
     "data": {
      "image/png": "[encoded data removed]",
      "text/plain": [
       "<Figure size 432x288 with 2 Axes>"
      ]
     },
     "metadata": {
      "needs_background": "light"
     },
     "output_type": "display_data"
    }
   ],
   "source": [
    "df.plot.scatter(x='Length2', y='Weight', c='Species', colormap='viridis')"
   ]
  },
  {
   "cell_type": "code",
   "execution_count": 138,
   "metadata": {},
   "outputs": [
    {
     "data": {
      "text/plain": [
       "<matplotlib.axes._subplots.AxesSubplot at 0x2c3af112a58>"
      ]
     },
     "execution_count": 138,
     "metadata": {},
     "output_type": "execute_result"
    },
    {
     "data": {
      "image/png": "[encoded data removed]",
      "text/plain": [
       "<Figure size 432x288 with 2 Axes>"
      ]
     },
     "metadata": {
      "needs_background": "light"
     },
     "output_type": "display_data"
    }
   ],
   "source": [
    "df.plot.scatter(x='Length3', y='Weight', c='Species', colormap='viridis')"
   ]
  },
  {
   "cell_type": "code",
   "execution_count": 139,
   "metadata": {},
   "outputs": [
    {
     "data": {
      "text/plain": [
       "<matplotlib.axes._subplots.AxesSubplot at 0x2c3af1c8128>"
      ]
     },
     "execution_count": 139,
     "metadata": {},
     "output_type": "execute_result"
    },
    {
     "data": {
      "image/png": "[encoded data removed]",
      "text/plain": [
       "<Figure size 432x288 with 2 Axes>"
      ]
     },
     "metadata": {
      "needs_background": "light"
     },
     "output_type": "display_data"
    }
   ],
   "source": [
    "df.plot.scatter(x='Width', y='Weight', c='Species', colormap='viridis')"
   ]
  },
  {
   "cell_type": "code",
   "execution_count": 522,
   "metadata": {},
   "outputs": [],
   "source": [
    "df = pd.read_csv(\"fish_participant.csv\")"
   ]
  },
  {
   "cell_type": "markdown",
   "metadata": {},
   "source": [
    "## Linear Regression"
   ]
  },
  {
   "cell_type": "code",
   "execution_count": 523,
   "metadata": {},
   "outputs": [],
   "source": [
    "y=df[\"Weight\"].values\n",
    "\n",
    "X= pd.get_dummies(\n",
    "    df[[column for column in df.columns if (column != \"Weight\") ]], drop_first = True\n",
    ").values"
   ]
  },
  {
   "cell_type": "code",
   "execution_count": 525,
   "metadata": {},
   "outputs": [
    {
     "data": {
      "text/plain": [
       "-10593.094392257557"
      ]
     },
     "execution_count": 525,
     "metadata": {},
     "output_type": "execute_result"
    }
   ],
   "source": [
    "cross_validate(lr, X,y, scoring =\"neg_mean_squared_error\",\n",
    "              cv=KFold(random_state=123, shuffle=True))['test_score'].mean()"
   ]
  },
  {
   "cell_type": "code",
   "execution_count": 526,
   "metadata": {},
   "outputs": [],
   "source": [
    "df_holdout = pd.read_csv(\"fish_holdout_demo.csv\")\n",
    "y_true=df_holdout[\"Weight\"].values\n",
    "\n",
    "X_holdout= pd.get_dummies(\n",
    "    df_holdout[[column for column in df_holdout.columns if (column != \"Weight\") ]], drop_first = True\n",
    ").values"
   ]
  },
  {
   "cell_type": "code",
   "execution_count": 527,
   "metadata": {},
   "outputs": [],
   "source": [
    "lr.fit(X,y)\n",
    "y_holdout = lr.predict(X_holdout)"
   ]
  },
  {
   "cell_type": "code",
   "execution_count": 528,
   "metadata": {},
   "outputs": [
    {
     "name": "stdout",
     "output_type": "stream",
     "text": [
      "[ 156.0208366   134.91029739   19.10338299  423.19799966  545.23014341\n",
      "  239.62370558  672.07689787   -5.92706377  543.16668901  435.61085219\n",
      "  503.24673784  253.9560618   345.05986979  -19.20424444  436.66414066\n",
      "  494.17850413 -386.3968948   597.02398346  131.66238157   49.61529386\n",
      "  357.44149209  840.99925667  208.42824217  967.01387985  715.68963478\n",
      "  938.50029072   21.16802245  133.02630695]\n",
      "[ 140.   150.     9.8  430.   456.   169.   567.     8.7  340.   320.\n",
      "  500.   188.   260.    70.   363.   500.     5.9  700.   125.    87.\n",
      "  272.  1000.   170.  1000.   720.  1100.   100.   160. ]\n",
      "12093.222165553118\n"
     ]
    }
   ],
   "source": [
    "print(y_holdout)\n",
    "print(y_true)\n",
    "ho_mse = mean_squared_error(y_true, y_holdout)\n",
    "print(ho_mse)"
   ]
  },
  {
   "cell_type": "markdown",
   "metadata": {},
   "source": [
    "## Linear Regression Scaled"
   ]
  },
  {
   "cell_type": "code",
   "execution_count": 529,
   "metadata": {},
   "outputs": [],
   "source": [
    "lr_scaled = make_pipeline(StandardScaler(),\n",
    "                         LinearRegression())"
   ]
  },
  {
   "cell_type": "code",
   "execution_count": 531,
   "metadata": {},
   "outputs": [
    {
     "data": {
      "text/plain": [
       "-10593.094392257608"
      ]
     },
     "execution_count": 531,
     "metadata": {},
     "output_type": "execute_result"
    }
   ],
   "source": [
    "cross_validate(lr_scaled, X,y, scoring =\"neg_mean_squared_error\",\n",
    "              cv=KFold(random_state=123, shuffle=True))['test_score'].mean()"
   ]
  },
  {
   "cell_type": "code",
   "execution_count": 532,
   "metadata": {},
   "outputs": [],
   "source": [
    "df_holdout = pd.read_csv(\"fish_holdout_demo.csv\")\n",
    "y_true=df_holdout[\"Weight\"].values\n",
    "\n",
    "X_holdout= pd.get_dummies(\n",
    "    df_holdout[[column for column in df_holdout.columns if (column != \"Weight\") ]], drop_first = True\n",
    ").values"
   ]
  },
  {
   "cell_type": "code",
   "execution_count": 533,
   "metadata": {},
   "outputs": [],
   "source": [
    "lr_scaled.fit(X,y)\n",
    "y_holdout = lr_scaled.predict(X_holdout)"
   ]
  },
  {
   "cell_type": "code",
   "execution_count": 534,
   "metadata": {},
   "outputs": [
    {
     "name": "stdout",
     "output_type": "stream",
     "text": [
      "[ 156.0208366   134.91029739   19.10338299  423.19799966  545.23014341\n",
      "  239.62370558  672.07689787   -5.92706377  543.16668901  435.61085219\n",
      "  503.24673784  253.9560618   345.05986979  -19.20424444  436.66414066\n",
      "  494.17850413 -386.3968948   597.02398346  131.66238157   49.61529386\n",
      "  357.44149209  840.99925667  208.42824217  967.01387985  715.68963478\n",
      "  938.50029072   21.16802245  133.02630695]\n",
      "[ 140.   150.     9.8  430.   456.   169.   567.     8.7  340.   320.\n",
      "  500.   188.   260.    70.   363.   500.     5.9  700.   125.    87.\n",
      "  272.  1000.   170.  1000.   720.  1100.   100.   160. ]\n",
      "12093.22216555305\n"
     ]
    }
   ],
   "source": [
    "print(y_holdout)\n",
    "print(y_true)\n",
    "ho_mse = mean_squared_error(y_true, y_holdout)\n",
    "print(ho_mse)"
   ]
  },
  {
   "cell_type": "markdown",
   "metadata": {},
   "source": [
    "## DecisionTree  - Looks like this is the model that has highest accuracy"
   ]
  },
  {
   "cell_type": "code",
   "execution_count": 541,
   "metadata": {},
   "outputs": [],
   "source": [
    "dt = DecisionTreeRegressor()"
   ]
  },
  {
   "cell_type": "code",
   "execution_count": 543,
   "metadata": {},
   "outputs": [
    {
     "data": {
      "text/plain": [
       "-6095.077347826087"
      ]
     },
     "execution_count": 543,
     "metadata": {},
     "output_type": "execute_result"
    }
   ],
   "source": [
    "cross_validate(dt, X,y, scoring =\"neg_mean_squared_error\",\n",
    "              cv=KFold(random_state=123, shuffle=True))['test_score'].mean()"
   ]
  },
  {
   "cell_type": "code",
   "execution_count": 544,
   "metadata": {},
   "outputs": [],
   "source": [
    "df_holdout = pd.read_csv(\"fish_holdout_demo.csv\")\n",
    "y_true=df_holdout[\"Weight\"].values\n",
    "\n",
    "X_holdout= pd.get_dummies(\n",
    "    df_holdout[[column for column in df_holdout.columns if (column != \"Weight\") ]], drop_first = True\n",
    ").values"
   ]
  },
  {
   "cell_type": "code",
   "execution_count": 545,
   "metadata": {},
   "outputs": [],
   "source": [
    "dt.fit(X,y)\n",
    "dump(dt, 'dt.joblib') \n",
    "y_holdout = dt.predict(X_holdout)"
   ]
  },
  {
   "cell_type": "code",
   "execution_count": 546,
   "metadata": {},
   "outputs": [
    {
     "name": "stdout",
     "output_type": "stream",
     "text": [
      "[ 140.   150.     9.8  430.   456.   169.   567.     8.7  340.   320.\n",
      "  500.   188.   260.    70.   363.   500.     5.9  700.   125.    87.\n",
      "  272.  1000.   170.  1000.   720.  1100.   100.   160. ]\n",
      "[ 140.   150.     9.8  430.   456.   169.   567.     8.7  340.   320.\n",
      "  500.   188.   260.    70.   363.   500.     5.9  700.   125.    87.\n",
      "  272.  1000.   170.  1000.   720.  1100.   100.   160. ]\n",
      "0.0\n"
     ]
    }
   ],
   "source": [
    "print(y_holdout)\n",
    "print(y_true)\n",
    "ho_mse = mean_squared_error(y_true, y_holdout)\n",
    "print(ho_mse)"
   ]
  },
  {
   "cell_type": "code",
   "execution_count": 383,
   "metadata": {},
   "outputs": [],
   "source": [
    "dt_scaled = make_pipeline(StandardScaler(),\n",
    "                         DecisionTreeRegressor())"
   ]
  },
  {
   "cell_type": "code",
   "execution_count": 384,
   "metadata": {},
   "outputs": [
    {
     "data": {
      "text/plain": [
       "{'fit_time': array([0.00398731, 0.00197554, 0.00199318, 0.00199485, 0.00099516]),\n",
       " 'score_time': array([0.00199413, 0.00199509, 0.00099778, 0.0009985 , 0.00199533]),\n",
       " 'test_neg_mean_squared_error': array([-6827.28913043, -2019.37636364, -9539.04590909, -8773.52590909,\n",
       "        -7593.54954545]),\n",
       " 'test_neg_mean_absolute_error': array([-53.90869565, -31.57272727, -57.68636364, -51.61363636,\n",
       "        -56.10454545]),\n",
       " 'test_neg_median_absolute_error': array([-50.  , -19.  , -30.5 , -25.  , -21.65])}"
      ]
     },
     "execution_count": 384,
     "metadata": {},
     "output_type": "execute_result"
    }
   ],
   "source": [
    "cross_validate(dt_scaled, X,y, scoring =[\"neg_mean_squared_error\", \"neg_mean_absolute_error\", \"neg_median_absolute_error\"],\n",
    "              cv=KFold(random_state=123, shuffle=True))"
   ]
  },
  {
   "cell_type": "code",
   "execution_count": 385,
   "metadata": {},
   "outputs": [
    {
     "data": {
      "text/plain": [
       "-6200.300462450594"
      ]
     },
     "execution_count": 385,
     "metadata": {},
     "output_type": "execute_result"
    }
   ],
   "source": [
    "cross_validate(dt_scaled, X,y, scoring =\"neg_mean_squared_error\",\n",
    "              cv=KFold(random_state=123, shuffle=True))['test_score'].mean()"
   ]
  },
  {
   "cell_type": "markdown",
   "metadata": {},
   "source": [
    "## Random Forest"
   ]
  },
  {
   "cell_type": "code",
   "execution_count": 547,
   "metadata": {},
   "outputs": [],
   "source": [
    "df = pd.read_csv(\"fish_participant.csv\")\n",
    "y=df[\"Weight\"].values\n",
    "\n",
    "X= pd.get_dummies(\n",
    "    df[[column for column in df.columns if (column != \"Weight\") ]], drop_first = True\n",
    ").values\n"
   ]
  },
  {
   "cell_type": "code",
   "execution_count": 548,
   "metadata": {},
   "outputs": [],
   "source": [
    "rf = RandomForestRegressor()"
   ]
  },
  {
   "cell_type": "code",
   "execution_count": 549,
   "metadata": {},
   "outputs": [
    {
     "data": {
      "text/plain": [
       "-6091.392894820553"
      ]
     },
     "execution_count": 549,
     "metadata": {},
     "output_type": "execute_result"
    }
   ],
   "source": [
    "cross_validate(rf, X,y, scoring =\"neg_mean_squared_error\",\n",
    "              cv=KFold(random_state=123, shuffle=True))['test_score'].mean()"
   ]
  },
  {
   "cell_type": "code",
   "execution_count": 550,
   "metadata": {},
   "outputs": [],
   "source": [
    "df_holdout = pd.read_csv(\"fish_holdout_demo.csv\")\n",
    "y_true=df_holdout[\"Weight\"].values\n",
    "X_holdout= pd.get_dummies(\n",
    "    df_holdout[[column for column in df.columns if (column != \"Weight\") ]], drop_first = True\n",
    ").values"
   ]
  },
  {
   "cell_type": "code",
   "execution_count": 551,
   "metadata": {},
   "outputs": [],
   "source": [
    "rf.fit(X,y)\n",
    "dump(rf, \"rf_hw.joblib\")\n",
    "y_holdout = rf.predict(X_holdout)"
   ]
  },
  {
   "cell_type": "code",
   "execution_count": 552,
   "metadata": {},
   "outputs": [
    {
     "name": "stdout",
     "output_type": "stream",
     "text": [
      "[ 136.07   135.03     9.822  431.64   458.76   171.96   540.13     9.04\n",
      "  410.2    334.5    452.16   187.38   259.28    72.48   377.66   491.7\n",
      "   11.256  621.17   121.85    97.47   287.52   974.     168.68  1004.95\n",
      "  710.12  1056.95    93.05   159.64 ]\n",
      "[ 140.   150.     9.8  430.   456.   169.   567.     8.7  340.   320.\n",
      "  500.   188.   260.    70.   363.   500.     5.9  700.   125.    87.\n",
      "  272.  1000.   170.  1000.   720.  1100.   100.   160. ]\n",
      "642.9787614285715\n"
     ]
    }
   ],
   "source": [
    "print(y_holdout)\n",
    "print(y_true)\n",
    "ho_mse = mean_squared_error(y_true, y_holdout)\n",
    "print(ho_mse)"
   ]
  },
  {
   "cell_type": "code",
   "execution_count": 553,
   "metadata": {},
   "outputs": [
    {
     "data": {
      "text/plain": [
       "<matplotlib.collections.PathCollection at 0x2c3b232e550>"
      ]
     },
     "execution_count": 553,
     "metadata": {},
     "output_type": "execute_result"
    },
    {
     "data": {
      "image/png": "[encoded data removed]",
      "text/plain": [
       "<Figure size 432x288 with 1 Axes>"
      ]
     },
     "metadata": {
      "needs_background": "light"
     },
     "output_type": "display_data"
    }
   ],
   "source": [
    "y_poly_pred =rf.predict(X)\n",
    "fig = plt.figure()\n",
    "ax1 = fig.add_subplot(111)\n",
    "ax1.scatter(df['Height'], y, color = 'b')\n",
    "ax1.scatter(df['Height'], y_poly_pred, color='m' )"
   ]
  },
  {
   "cell_type": "code",
   "execution_count": 554,
   "metadata": {},
   "outputs": [],
   "source": [
    "rf_scaled = make_pipeline(StandardScaler(),\n",
    "                         RandomForestRegressor())"
   ]
  },
  {
   "cell_type": "code",
   "execution_count": 555,
   "metadata": {},
   "outputs": [
    {
     "data": {
      "text/plain": [
       "-5762.175378498815"
      ]
     },
     "execution_count": 555,
     "metadata": {},
     "output_type": "execute_result"
    }
   ],
   "source": [
    "cross_validate(rf_scaled, X,y, scoring =\"neg_mean_squared_error\",\n",
    "              cv=KFold(random_state=123, shuffle=True))['test_score'].mean()"
   ]
  },
  {
   "cell_type": "code",
   "execution_count": 556,
   "metadata": {},
   "outputs": [
    {
     "data": {
      "text/plain": [
       "{'fit_time': array([0.14043856, 0.12701392, 0.12496781, 0.12497306, 0.10934854]),\n",
       " 'score_time': array([0.02429485, 0.        , 0.        , 0.        , 0.        ]),\n",
       " 'test_neg_mean_squared_error': array([-16788.47237574,  -2091.52815245,  -4264.75155318,  -2300.07181545,\n",
       "         -3987.50193645]),\n",
       " 'test_neg_mean_absolute_error': array([-60.79904348, -30.121     , -43.67990909, -27.981     ,\n",
       "        -42.66354545]),\n",
       " 'test_neg_median_absolute_error': array([-18.73  , -11.4115, -27.165 , -10.9325, -29.025 ])}"
      ]
     },
     "execution_count": 556,
     "metadata": {},
     "output_type": "execute_result"
    }
   ],
   "source": [
    "cross_validate(rf_scaled, X,y, scoring =[\"neg_mean_squared_error\", \"neg_mean_absolute_error\", \"neg_median_absolute_error\"],\n",
    "              cv=KFold(random_state=123, shuffle=True))"
   ]
  },
  {
   "cell_type": "markdown",
   "metadata": {},
   "source": [
    "## LassoCV"
   ]
  },
  {
   "cell_type": "code",
   "execution_count": 557,
   "metadata": {},
   "outputs": [],
   "source": [
    "lasso = LassoCV( tol=0.001, cv=5)"
   ]
  },
  {
   "cell_type": "code",
   "execution_count": 558,
   "metadata": {},
   "outputs": [
    {
     "name": "stderr",
     "output_type": "stream",
     "text": [
      "C:\\Users\\ppand\\.virtualenvs\\NLP-labs-0b2hZvGQ\\lib\\site-packages\\sklearn\\linear_model\\_coordinate_descent.py:476: ConvergenceWarning: Objective did not converge. You might want to increase the number of iterations. Duality gap: 12154.3810429835, tolerance: 8916.059539545455\n",
      "  positive)\n",
      "C:\\Users\\ppand\\.virtualenvs\\NLP-labs-0b2hZvGQ\\lib\\site-packages\\sklearn\\linear_model\\_coordinate_descent.py:476: ConvergenceWarning: Objective did not converge. You might want to increase the number of iterations. Duality gap: 24426.047759030247, tolerance: 10779.737895505623\n",
      "  positive)\n"
     ]
    },
    {
     "data": {
      "text/plain": [
       "-10264.995222064832"
      ]
     },
     "execution_count": 558,
     "metadata": {},
     "output_type": "execute_result"
    }
   ],
   "source": [
    "cross_validate(lasso, X,y, scoring =\"neg_mean_squared_error\",\n",
    "              cv=KFold(random_state=123, shuffle=True))['test_score'].mean()"
   ]
  },
  {
   "cell_type": "code",
   "execution_count": 559,
   "metadata": {},
   "outputs": [],
   "source": [
    "lasso_cv_scaled = make_pipeline(\n",
    "    StandardScaler(),\n",
    "    lasso\n",
    ")"
   ]
  },
  {
   "cell_type": "code",
   "execution_count": 560,
   "metadata": {},
   "outputs": [
    {
     "data": {
      "text/plain": [
       "-10630.036523146942"
      ]
     },
     "execution_count": 560,
     "metadata": {},
     "output_type": "execute_result"
    }
   ],
   "source": [
    "cross_validate(lasso_cv_scaled, X,y, scoring =\"neg_mean_squared_error\",\n",
    "              cv=KFold(random_state=123, shuffle=True))['test_score'].mean()"
   ]
  },
  {
   "cell_type": "code",
   "execution_count": 561,
   "metadata": {},
   "outputs": [],
   "source": [
    "df_holdout = pd.read_csv(\"fish_holdout_demo.csv\")"
   ]
  },
  {
   "cell_type": "code",
   "execution_count": 562,
   "metadata": {},
   "outputs": [],
   "source": [
    "df_holdout = pd.read_csv(\"fish_holdout_demo.csv\")\n",
    "y_true=df_holdout[\"Weight\"].values\n",
    "\n",
    "X_holdout= pd.get_dummies(\n",
    "    df_holdout[[column for column in df.columns if (column != \"Weight\") ]], drop_first = True\n",
    ").values"
   ]
  },
  {
   "cell_type": "code",
   "execution_count": 563,
   "metadata": {},
   "outputs": [
    {
     "data": {
      "text/plain": [
       "Pipeline(memory=None,\n",
       "         steps=[('standardscaler',\n",
       "                 StandardScaler(copy=True, with_mean=True, with_std=True)),\n",
       "                ('lassocv',\n",
       "                 LassoCV(alphas=None, copy_X=True, cv=5, eps=0.001,\n",
       "                         fit_intercept=True, max_iter=1000, n_alphas=100,\n",
       "                         n_jobs=None, normalize=False, positive=False,\n",
       "                         precompute='auto', random_state=None,\n",
       "                         selection='cyclic', tol=0.001, verbose=False))],\n",
       "         verbose=False)"
      ]
     },
     "execution_count": 563,
     "metadata": {},
     "output_type": "execute_result"
    }
   ],
   "source": [
    "lasso_cv_scaled.fit(X, y)"
   ]
  },
  {
   "cell_type": "code",
   "execution_count": 564,
   "metadata": {},
   "outputs": [
    {
     "name": "stdout",
     "output_type": "stream",
     "text": [
      "[ 152.99963816  135.9627054    16.34153475  435.08098507  564.322821\n",
      "  214.76616339  691.23614479   -3.25526428  562.03825773  440.00853738\n",
      "  525.18208656  249.296446    346.80741439  -27.73285525  439.39626657\n",
      "  523.65748423 -370.63151252  607.22122328  113.99382233   47.83581252\n",
      "  344.39498697  853.84430346  198.09880501  952.39045847  708.45345311\n",
      "  920.58883276    8.24330513  157.11323954]\n",
      "[ 140.   150.     9.8  430.   456.   169.   567.     8.7  340.   320.\n",
      "  500.   188.   260.    70.   363.   500.     5.9  700.   125.    87.\n",
      "  272.  1000.   170.  1000.   720.  1100.   100.   160. ]\n"
     ]
    }
   ],
   "source": [
    "y_estimate = lasso_cv_scaled.predict(X_holdout)\n",
    "print(y_estimate)\n",
    "print(y_true)"
   ]
  },
  {
   "cell_type": "code",
   "execution_count": 565,
   "metadata": {},
   "outputs": [
    {
     "name": "stdout",
     "output_type": "stream",
     "text": [
      "12280.899951287849\n"
     ]
    }
   ],
   "source": [
    "ho_mse = mean_squared_error(y_true, y_estimate)\n",
    "print(ho_mse)"
   ]
  },
  {
   "cell_type": "code",
   "execution_count": 566,
   "metadata": {},
   "outputs": [
    {
     "data": {
      "text/plain": [
       "['lcv.joblib']"
      ]
     },
     "execution_count": 566,
     "metadata": {},
     "output_type": "execute_result"
    }
   ],
   "source": [
    "dump(lasso_cv_scaled, 'lcv.joblib') "
   ]
  },
  {
   "cell_type": "markdown",
   "metadata": {},
   "source": [
    "## PCA Regression"
   ]
  },
  {
   "cell_type": "code",
   "execution_count": 567,
   "metadata": {},
   "outputs": [],
   "source": [
    "pca_regression = make_pipeline(\n",
    "    StandardScaler(),\n",
    "    PCA(n_components=3),\n",
    "     LinearRegression()\n",
    ")"
   ]
  },
  {
   "cell_type": "code",
   "execution_count": 568,
   "metadata": {},
   "outputs": [
    {
     "data": {
      "text/plain": [
       "-21282.184764148406"
      ]
     },
     "execution_count": 568,
     "metadata": {},
     "output_type": "execute_result"
    }
   ],
   "source": [
    "cross_validate(pca_regression, X,y, scoring =\"neg_mean_squared_error\",\n",
    "              cv=KFold(random_state=123, shuffle=True))['test_score'].mean()"
   ]
  },
  {
   "cell_type": "markdown",
   "metadata": {},
   "source": [
    "## Ridge regression"
   ]
  },
  {
   "cell_type": "code",
   "execution_count": 569,
   "metadata": {},
   "outputs": [],
   "source": [
    "df = pd.read_csv(\"fish_participant.csv\")\n",
    "y=df[\"Weight\"].values\n",
    "\n",
    "X= pd.get_dummies(\n",
    "    df[[column for column in df.columns if (column != \"Weight\") ]], drop_first = True\n",
    ").values\n"
   ]
  },
  {
   "cell_type": "code",
   "execution_count": 570,
   "metadata": {},
   "outputs": [],
   "source": [
    "reg = make_pipeline(\n",
    "    PolynomialFeatures(3),\n",
    "     Ridge()\n",
    " )"
   ]
  },
  {
   "cell_type": "code",
   "execution_count": 571,
   "metadata": {},
   "outputs": [
    {
     "data": {
      "text/plain": [
       "-51488.16334897962"
      ]
     },
     "execution_count": 571,
     "metadata": {},
     "output_type": "execute_result"
    }
   ],
   "source": [
    "cross_validate(reg, X,y, scoring =\"neg_mean_squared_error\",\n",
    "              cv=KFold(random_state=123, shuffle=True))['test_score'].mean()"
   ]
  },
  {
   "cell_type": "code",
   "execution_count": 572,
   "metadata": {},
   "outputs": [],
   "source": [
    "df_holdout = pd.read_csv(\"fish_holdout_demo.csv\")\n",
    "y_true=df_holdout[\"Weight\"].values\n",
    "# df_holdout = df_holdout.assign(h2=df[\"Height\"] * df[\"Height\"])\n",
    "X_holdout= pd.get_dummies(\n",
    "    df_holdout[[column for column in df.columns if (column != \"Weight\") ]], drop_first = True\n",
    ").values"
   ]
  },
  {
   "cell_type": "code",
   "execution_count": 573,
   "metadata": {},
   "outputs": [],
   "source": [
    "reg.fit(X,y)\n",
    "dump(reg, \"reg_hw.joblib\")\n",
    "y_holdout = reg.predict(X_holdout)"
   ]
  },
  {
   "cell_type": "code",
   "execution_count": 574,
   "metadata": {},
   "outputs": [
    {
     "name": "stdout",
     "output_type": "stream",
     "text": [
      "[ 143.10211425  150.77143334    9.20725544  431.35007856  459.25112605\n",
      "  172.45709854  565.78929473   12.69043992  487.37980071  324.3247223\n",
      "  501.9256305   193.25424595  256.90833964   64.23297583  352.8339921\n",
      "  501.68597044   11.7300059   571.59591832  114.10725752   91.39519398\n",
      "  288.95850914 1000.01836232  155.69787669 1009.41784112  735.8791762\n",
      " 1047.13040038   86.15679672  156.16949925]\n",
      "[ 140.   150.     9.8  430.   456.   169.   567.     8.7  340.   320.\n",
      "  500.   188.   260.    70.   363.   500.     5.9  700.   125.    87.\n",
      "  272.  1000.   170.  1000.   720.  1100.   100.   160. ]\n",
      "1516.649592991747\n"
     ]
    }
   ],
   "source": [
    "print(y_holdout)\n",
    "print(y_true)\n",
    "ho_mse = mean_squared_error(y_true, y_holdout)\n",
    "print(ho_mse)"
   ]
  },
  {
   "cell_type": "code",
   "execution_count": 575,
   "metadata": {},
   "outputs": [
    {
     "data": {
      "text/plain": [
       "<matplotlib.collections.PathCollection at 0x2c3b23c1390>"
      ]
     },
     "execution_count": 575,
     "metadata": {},
     "output_type": "execute_result"
    },
    {
     "data": {
      "image/png": "[encoded data removed]",
      "text/plain": [
       "<Figure size 432x288 with 1 Axes>"
      ]
     },
     "metadata": {
      "needs_background": "light"
     },
     "output_type": "display_data"
    }
   ],
   "source": [
    "y_poly_pred =reg.predict(X)\n",
    "fig = plt.figure()\n",
    "ax1 = fig.add_subplot(111)\n",
    "ax1.scatter(df['Height'], y, color = 'b')\n",
    "ax1.scatter(df['Height'], y_poly_pred, color='m' )"
   ]
  },
  {
   "cell_type": "markdown",
   "metadata": {},
   "source": [
    "## Ridge - Combine the data"
   ]
  },
  {
   "cell_type": "code",
   "execution_count": 576,
   "metadata": {},
   "outputs": [],
   "source": [
    "df = pd.read_csv(\"fish_participant.csv\")\n",
    "df_holdout = pd.read_csv(\"fish_holdout_demo.csv\")\n",
    "df = df.append(df_holdout, ignore_index = True)"
   ]
  },
  {
   "cell_type": "code",
   "execution_count": 577,
   "metadata": {},
   "outputs": [],
   "source": [
    "y=df[\"Weight\"].values\n",
    "\n",
    "X= pd.get_dummies(\n",
    "    df[[column for column in df.columns if (column != \"Weight\") ]], drop_first = True\n",
    ").values"
   ]
  },
  {
   "cell_type": "code",
   "execution_count": 578,
   "metadata": {},
   "outputs": [],
   "source": [
    "reg = make_pipeline(\n",
    "    PolynomialFeatures(3),\n",
    "     Ridge(tol=0.0001)\n",
    " )"
   ]
  },
  {
   "cell_type": "code",
   "execution_count": 579,
   "metadata": {},
   "outputs": [
    {
     "data": {
      "text/plain": [
       "Pipeline(memory=None,\n",
       "         steps=[('polynomialfeatures',\n",
       "                 PolynomialFeatures(degree=3, include_bias=True,\n",
       "                                    interaction_only=False, order='C')),\n",
       "                ('ridge',\n",
       "                 Ridge(alpha=1.0, copy_X=True, fit_intercept=True,\n",
       "                       max_iter=None, normalize=False, random_state=None,\n",
       "                       solver='auto', tol=0.0001))],\n",
       "         verbose=False)"
      ]
     },
     "execution_count": 579,
     "metadata": {},
     "output_type": "execute_result"
    }
   ],
   "source": [
    "reg.fit(X,y)"
   ]
  },
  {
   "cell_type": "code",
   "execution_count": 580,
   "metadata": {},
   "outputs": [
    {
     "data": {
      "text/plain": [
       "-23510.595053337445"
      ]
     },
     "execution_count": 580,
     "metadata": {},
     "output_type": "execute_result"
    }
   ],
   "source": [
    "cross_validate(reg, X,y, scoring =\"neg_mean_squared_error\",\n",
    "              cv=KFold(random_state=123, shuffle=True))['test_score'].mean()"
   ]
  },
  {
   "cell_type": "code",
   "execution_count": 581,
   "metadata": {},
   "outputs": [
    {
     "data": {
      "text/plain": [
       "['reg_hw.joblib']"
      ]
     },
     "execution_count": 581,
     "metadata": {},
     "output_type": "execute_result"
    }
   ],
   "source": [
    "dump(reg, \"reg_hw.joblib\")"
   ]
  },
  {
   "cell_type": "code",
   "execution_count": 582,
   "metadata": {},
   "outputs": [
    {
     "data": {
      "text/plain": [
       "<matplotlib.collections.PathCollection at 0x2c3b2414f98>"
      ]
     },
     "execution_count": 582,
     "metadata": {},
     "output_type": "execute_result"
    },
    {
     "data": {
      "image/png": "[encoded data removed]",
      "text/plain": [
       "<Figure size 432x288 with 1 Axes>"
      ]
     },
     "metadata": {
      "needs_background": "light"
     },
     "output_type": "display_data"
    }
   ],
   "source": [
    "y_poly_pred =reg.predict(X)\n",
    "fig = plt.figure()\n",
    "ax1 = fig.add_subplot(111)\n",
    "ax1.scatter(df['Height'], y, color = 'b')\n",
    "ax1.scatter(df['Height'], y_poly_pred, color='m' )"
   ]
  },
  {
   "cell_type": "code",
   "execution_count": null,
   "metadata": {},
   "outputs": [],
   "source": []
  }
 ],
 "metadata": {
  "kernelspec": {
   "display_name": "nlp_ml",
   "language": "python",
   "name": "nlp_ml"
  },
  "language_info": {
   "codemirror_mode": {
    "name": "ipython",
    "version": 3
   },
   "file_extension": ".py",
   "mimetype": "text/x-python",
   "name": "python",
   "nbconvert_exporter": "python",
   "pygments_lexer": "ipython3",
   "version": "3.7.3"
  }
 },
 "nbformat": 4,
 "nbformat_minor": 4
}
